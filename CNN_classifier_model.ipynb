{
 "cells": [
  {
   "cell_type": "code",
   "execution_count": 1,
   "id": "HmibmH77drzm",
   "metadata": {
    "colab": {
     "base_uri": "https://localhost:8080/"
    },
    "id": "HmibmH77drzm",
    "outputId": "e439f586-715b-4436-f0a5-8d11c3ce1f7d"
   },
   "outputs": [
    {
     "name": "stdout",
     "output_type": "stream",
     "text": [
      "Mounted at /content/gdrive\n"
     ]
    }
   ],
   "source": [
    "from google.colab import drive\n",
    "drive.mount('/content/gdrive')"
   ]
  },
  {
   "cell_type": "code",
   "execution_count": 2,
   "id": "y2M36W-CYSj-",
   "metadata": {
    "id": "y2M36W-CYSj-"
   },
   "outputs": [],
   "source": [
    "import json\n",
    "import numpy as np\n",
    "from sklearn.model_selection import train_test_split\n",
    "import tensorflow.keras as keras\n",
    "import matplotlib.pyplot as plt"
   ]
  },
  {
   "cell_type": "code",
   "execution_count": 3,
   "id": "NmgGokaYeX3S",
   "metadata": {
    "id": "NmgGokaYeX3S"
   },
   "outputs": [],
   "source": [
    "# path to json file that stores MFCCs and genre labels for each processed segment\n",
    "DATA_PATH = \"data_10segment.json\""
   ]
  },
  {
   "cell_type": "code",
   "execution_count": 88,
   "id": "d3cc0206",
   "metadata": {
    "colab": {
     "base_uri": "https://localhost:8080/",
     "height": 1000
    },
    "id": "d3cc0206",
    "outputId": "6dcf2ca3-746d-4a78-9b7b-6f3059bf9f30"
   },
   "outputs": [
    {
     "name": "stdout",
     "output_type": "stream",
     "text": [
      "Model: \"sequential_3\"\n",
      "_________________________________________________________________\n",
      "Layer (type)                 Output Shape              Param #   \n",
      "=================================================================\n",
      "conv2d_9 (Conv2D)            (None, 128, 11, 64)       640       \n",
      "_________________________________________________________________\n",
      "max_pooling2d_9 (MaxPooling2 (None, 64, 6, 64)         0         \n",
      "_________________________________________________________________\n",
      "batch_normalization_9 (Batch (None, 64, 6, 64)         256       \n",
      "_________________________________________________________________\n",
      "conv2d_10 (Conv2D)           (None, 62, 4, 32)         18464     \n",
      "_________________________________________________________________\n",
      "max_pooling2d_10 (MaxPooling (None, 31, 2, 32)         0         \n",
      "_________________________________________________________________\n",
      "batch_normalization_10 (Batc (None, 31, 2, 32)         128       \n",
      "_________________________________________________________________\n",
      "conv2d_11 (Conv2D)           (None, 30, 1, 32)         4128      \n",
      "_________________________________________________________________\n",
      "max_pooling2d_11 (MaxPooling (None, 15, 1, 32)         0         \n",
      "_________________________________________________________________\n",
      "batch_normalization_11 (Batc (None, 15, 1, 32)         128       \n",
      "_________________________________________________________________\n",
      "flatten_3 (Flatten)          (None, 480)               0         \n",
      "_________________________________________________________________\n",
      "dense_6 (Dense)              (None, 64)                30784     \n",
      "_________________________________________________________________\n",
      "dropout_3 (Dropout)          (None, 64)                0         \n",
      "_________________________________________________________________\n",
      "dense_7 (Dense)              (None, 5)                 325       \n",
      "=================================================================\n",
      "Total params: 54,853\n",
      "Trainable params: 54,597\n",
      "Non-trainable params: 256\n",
      "_________________________________________________________________\n",
      "Epoch 1/50\n",
      "92/92 [==============================] - 4s 42ms/step - loss: 2.0475 - accuracy: 0.2521 - val_loss: 1.5208 - val_accuracy: 0.3620\n",
      "Epoch 2/50\n",
      "92/92 [==============================] - 4s 41ms/step - loss: 1.3971 - accuracy: 0.4599 - val_loss: 1.1766 - val_accuracy: 0.5273\n",
      "Epoch 3/50\n",
      "92/92 [==============================] - 4s 45ms/step - loss: 1.1683 - accuracy: 0.5636 - val_loss: 0.9689 - val_accuracy: 0.6284\n",
      "Epoch 4/50\n",
      "92/92 [==============================] - 5s 51ms/step - loss: 1.0187 - accuracy: 0.6384 - val_loss: 0.8419 - val_accuracy: 0.6844\n",
      "Epoch 5/50\n",
      "92/92 [==============================] - 4s 48ms/step - loss: 0.9347 - accuracy: 0.6504 - val_loss: 0.7787 - val_accuracy: 0.7186\n",
      "Epoch 6/50\n",
      "92/92 [==============================] - 4s 46ms/step - loss: 0.8149 - accuracy: 0.7039 - val_loss: 0.7093 - val_accuracy: 0.7309\n",
      "Epoch 7/50\n",
      "92/92 [==============================] - 4s 47ms/step - loss: 0.7463 - accuracy: 0.7263 - val_loss: 0.6808 - val_accuracy: 0.7596\n",
      "Epoch 8/50\n",
      "92/92 [==============================] - 5s 52ms/step - loss: 0.7194 - accuracy: 0.7412 - val_loss: 0.6239 - val_accuracy: 0.7719\n",
      "Epoch 9/50\n",
      "92/92 [==============================] - 5s 49ms/step - loss: 0.6592 - accuracy: 0.7511 - val_loss: 0.6177 - val_accuracy: 0.7650\n",
      "Epoch 10/50\n",
      "92/92 [==============================] - 4s 47ms/step - loss: 0.6049 - accuracy: 0.7796 - val_loss: 0.5995 - val_accuracy: 0.7951\n",
      "Epoch 11/50\n",
      "92/92 [==============================] - 4s 48ms/step - loss: 0.5825 - accuracy: 0.7978 - val_loss: 0.5642 - val_accuracy: 0.8101\n",
      "Epoch 12/50\n",
      "92/92 [==============================] - 4s 47ms/step - loss: 0.5408 - accuracy: 0.8106 - val_loss: 0.5412 - val_accuracy: 0.8046\n",
      "Epoch 13/50\n",
      "92/92 [==============================] - 5s 51ms/step - loss: 0.5279 - accuracy: 0.8010 - val_loss: 0.5408 - val_accuracy: 0.8115\n",
      "Epoch 14/50\n",
      "92/92 [==============================] - 4s 48ms/step - loss: 0.4846 - accuracy: 0.8295 - val_loss: 0.5142 - val_accuracy: 0.8279\n",
      "Epoch 15/50\n",
      "92/92 [==============================] - 4s 46ms/step - loss: 0.4657 - accuracy: 0.8352 - val_loss: 0.4757 - val_accuracy: 0.8292\n",
      "Epoch 16/50\n",
      "92/92 [==============================] - 4s 45ms/step - loss: 0.4255 - accuracy: 0.8419 - val_loss: 0.4737 - val_accuracy: 0.8347\n",
      "Epoch 17/50\n",
      "92/92 [==============================] - 4s 48ms/step - loss: 0.3966 - accuracy: 0.8609 - val_loss: 0.4759 - val_accuracy: 0.8361\n",
      "Epoch 18/50\n",
      "92/92 [==============================] - 4s 49ms/step - loss: 0.3784 - accuracy: 0.8653 - val_loss: 0.4757 - val_accuracy: 0.8443\n",
      "Epoch 19/50\n",
      "92/92 [==============================] - 4s 46ms/step - loss: 0.3683 - accuracy: 0.8708 - val_loss: 0.4474 - val_accuracy: 0.8470\n",
      "Epoch 20/50\n",
      "92/92 [==============================] - 4s 48ms/step - loss: 0.3624 - accuracy: 0.8692 - val_loss: 0.4301 - val_accuracy: 0.8456\n",
      "Epoch 21/50\n",
      "92/92 [==============================] - 5s 52ms/step - loss: 0.3155 - accuracy: 0.8940 - val_loss: 0.4184 - val_accuracy: 0.8525\n",
      "Epoch 22/50\n",
      "92/92 [==============================] - 5s 52ms/step - loss: 0.3474 - accuracy: 0.8827 - val_loss: 0.4276 - val_accuracy: 0.8593\n",
      "Epoch 23/50\n",
      "92/92 [==============================] - 4s 49ms/step - loss: 0.3381 - accuracy: 0.8840 - val_loss: 0.4472 - val_accuracy: 0.8497\n",
      "Epoch 24/50\n",
      "92/92 [==============================] - 5s 49ms/step - loss: 0.2916 - accuracy: 0.8962 - val_loss: 0.4088 - val_accuracy: 0.8607\n",
      "Epoch 25/50\n",
      "92/92 [==============================] - 4s 46ms/step - loss: 0.2883 - accuracy: 0.9003 - val_loss: 0.4322 - val_accuracy: 0.8538\n",
      "Epoch 26/50\n",
      "92/92 [==============================] - 4s 45ms/step - loss: 0.2689 - accuracy: 0.8995 - val_loss: 0.4014 - val_accuracy: 0.8552\n",
      "Epoch 27/50\n",
      "92/92 [==============================] - 4s 46ms/step - loss: 0.2575 - accuracy: 0.9127 - val_loss: 0.3941 - val_accuracy: 0.8525\n",
      "Epoch 28/50\n",
      "92/92 [==============================] - 4s 46ms/step - loss: 0.2621 - accuracy: 0.9166 - val_loss: 0.3741 - val_accuracy: 0.8702\n",
      "Epoch 29/50\n",
      "92/92 [==============================] - 4s 45ms/step - loss: 0.2319 - accuracy: 0.9222 - val_loss: 0.4086 - val_accuracy: 0.8607\n",
      "Epoch 30/50\n",
      "92/92 [==============================] - 4s 46ms/step - loss: 0.2283 - accuracy: 0.9226 - val_loss: 0.4057 - val_accuracy: 0.8661\n",
      "Epoch 31/50\n",
      "92/92 [==============================] - 4s 46ms/step - loss: 0.2502 - accuracy: 0.9152 - val_loss: 0.3859 - val_accuracy: 0.8579\n",
      "Epoch 32/50\n",
      "92/92 [==============================] - 4s 46ms/step - loss: 0.2281 - accuracy: 0.9166 - val_loss: 0.4253 - val_accuracy: 0.8620\n",
      "Epoch 33/50\n",
      "92/92 [==============================] - 4s 46ms/step - loss: 0.2325 - accuracy: 0.9216 - val_loss: 0.3944 - val_accuracy: 0.8702\n",
      "Epoch 34/50\n",
      "92/92 [==============================] - 4s 46ms/step - loss: 0.1945 - accuracy: 0.9355 - val_loss: 0.3794 - val_accuracy: 0.8648\n",
      "Epoch 35/50\n",
      "92/92 [==============================] - 4s 48ms/step - loss: 0.2033 - accuracy: 0.9206 - val_loss: 0.3665 - val_accuracy: 0.8798\n",
      "Epoch 36/50\n",
      "92/92 [==============================] - 4s 48ms/step - loss: 0.1914 - accuracy: 0.9351 - val_loss: 0.3656 - val_accuracy: 0.8757\n",
      "Epoch 37/50\n",
      "92/92 [==============================] - 4s 46ms/step - loss: 0.1674 - accuracy: 0.9416 - val_loss: 0.3582 - val_accuracy: 0.8798\n",
      "Epoch 38/50\n",
      "92/92 [==============================] - 4s 46ms/step - loss: 0.1738 - accuracy: 0.9427 - val_loss: 0.3724 - val_accuracy: 0.8784\n",
      "Epoch 39/50\n",
      "92/92 [==============================] - 4s 48ms/step - loss: 0.1693 - accuracy: 0.9383 - val_loss: 0.3926 - val_accuracy: 0.8757\n",
      "Epoch 40/50\n",
      "92/92 [==============================] - 4s 46ms/step - loss: 0.1640 - accuracy: 0.9495 - val_loss: 0.4002 - val_accuracy: 0.8675\n",
      "Epoch 41/50\n",
      "92/92 [==============================] - 4s 47ms/step - loss: 0.1697 - accuracy: 0.9411 - val_loss: 0.3598 - val_accuracy: 0.8798\n",
      "Epoch 42/50\n",
      "92/92 [==============================] - 4s 46ms/step - loss: 0.1520 - accuracy: 0.9493 - val_loss: 0.4066 - val_accuracy: 0.8634\n",
      "Epoch 43/50\n",
      "92/92 [==============================] - 4s 46ms/step - loss: 0.1425 - accuracy: 0.9586 - val_loss: 0.3820 - val_accuracy: 0.8784\n",
      "Epoch 44/50\n"
     ]
    },
    {
     "name": "stdout",
     "output_type": "stream",
     "text": [
      "92/92 [==============================] - 4s 47ms/step - loss: 0.1387 - accuracy: 0.9554 - val_loss: 0.3669 - val_accuracy: 0.8770\n",
      "Epoch 45/50\n",
      "92/92 [==============================] - 4s 47ms/step - loss: 0.1573 - accuracy: 0.9469 - val_loss: 0.3459 - val_accuracy: 0.8784\n",
      "Epoch 46/50\n",
      "92/92 [==============================] - 5s 51ms/step - loss: 0.1331 - accuracy: 0.9576 - val_loss: 0.3656 - val_accuracy: 0.8811\n",
      "Epoch 47/50\n",
      "92/92 [==============================] - 4s 47ms/step - loss: 0.1440 - accuracy: 0.9494 - val_loss: 0.3407 - val_accuracy: 0.8907\n",
      "Epoch 48/50\n",
      "92/92 [==============================] - 4s 48ms/step - loss: 0.1268 - accuracy: 0.9596 - val_loss: 0.3983 - val_accuracy: 0.8811\n",
      "Epoch 49/50\n",
      "92/92 [==============================] - 4s 47ms/step - loss: 0.1263 - accuracy: 0.9599 - val_loss: 0.3586 - val_accuracy: 0.8825\n",
      "Epoch 50/50\n",
      "92/92 [==============================] - 4s 47ms/step - loss: 0.1208 - accuracy: 0.9601 - val_loss: 0.3518 - val_accuracy: 0.8934\n"
     ]
    },
    {
     "data": {
      "image/png": "[encoded data removed]",
      "text/plain": [
       "<Figure size 432x288 with 2 Axes>"
      ]
     },
     "metadata": {
      "needs_background": "light"
     },
     "output_type": "display_data"
    },
    {
     "name": "stdout",
     "output_type": "stream",
     "text": [
      "39/39 - 0s - loss: 0.4300 - accuracy: 0.8574\n",
      "\n",
      "Test accuracy: 0.8573770523071289\n",
      "Target: 3, Predicted label: [3]\n"
     ]
    }
   ],
   "source": [
    "def load_data(data_path):\n",
    "    \"\"\"Loads training dataset from json file.\n",
    "        :param data_path (str): Path to json file containing data\n",
    "        :return X (ndarray): Inputs\n",
    "        :return y (ndarray): Targets\n",
    "    \"\"\"\n",
    "\n",
    "    with open(data_path, \"r\") as fp:\n",
    "        data = json.load(fp)\n",
    "\n",
    "    X = np.array(data[\"mfcc\"])\n",
    "    y = np.array(data[\"labels\"])\n",
    "    return X, y\n",
    "\n",
    "\n",
    "def plot_history(history):\n",
    "    \"\"\"Plots accuracy/loss for training/validation set as a function of the epochs\n",
    "        :param history: Training history of model\n",
    "        :return:\n",
    "    \"\"\"\n",
    "\n",
    "    fig, axs = plt.subplots(2)\n",
    "\n",
    "    # create accuracy sublpot\n",
    "    axs[0].plot(history.history[\"accuracy\"], label=\"train accuracy\")\n",
    "    axs[0].plot(history.history[\"val_accuracy\"], label=\"test accuracy\")\n",
    "    axs[0].set_ylabel(\"Accuracy\")\n",
    "    axs[0].legend(loc=\"lower right\")\n",
    "    axs[0].set_title(\"Accuracy eval\")\n",
    "\n",
    "    # create error sublpot\n",
    "    axs[1].plot(history.history[\"loss\"], label=\"train error\")\n",
    "    axs[1].plot(history.history[\"val_loss\"], label=\"test error\")\n",
    "    axs[1].set_ylabel(\"Error\")\n",
    "    axs[1].set_xlabel(\"Epoch\")\n",
    "    axs[1].legend(loc=\"upper right\")\n",
    "    axs[1].set_title(\"Error eval\")\n",
    "\n",
    "    plt.show()\n",
    "\n",
    "\n",
    "def prepare_datasets(test_size, validation_size):\n",
    "    \"\"\"Loads data and splits it into train, validation and test sets.\n",
    "    :param test_size (float): Value in [0, 1] indicating percentage of data set to allocate to test split\n",
    "    :param validation_size (float): Value in [0, 1] indicating percentage of train set to allocate to validation split\n",
    "    :return X_train (ndarray): Input training set\n",
    "    :return X_validation (ndarray): Input validation set\n",
    "    :return X_test (ndarray): Input test set\n",
    "    :return y_train (ndarray): Target training set\n",
    "    :return y_validation (ndarray): Target validation set\n",
    "    :return y_test (ndarray): Target test set\n",
    "    \"\"\"\n",
    "\n",
    "    # load data\n",
    "    X, y = load_data(DATA_PATH)\n",
    "\n",
    "    # create train, validation and test split\n",
    "    X_train, X_test, y_train, y_test = train_test_split(X, y, test_size=test_size)\n",
    "    X_train, X_validation, y_train, y_validation = train_test_split(X_train, y_train, test_size=validation_size)\n",
    "\n",
    "    # add an axis to input sets\n",
    "    X_train = X_train[..., np.newaxis]\n",
    "    X_validation = X_validation[..., np.newaxis]\n",
    "    X_test = X_test[..., np.newaxis]\n",
    "\n",
    "    return X_train, X_validation, X_test, y_train, y_validation, y_test\n",
    "\n",
    "\n",
    "def build_model(input_shape):\n",
    "    \"\"\"Generates CNN model\n",
    "    :param input_shape (tuple): Shape of input set\n",
    "    :return model: CNN model\n",
    "    \"\"\"\n",
    "\n",
    "    # build network topology\n",
    "    model = keras.Sequential()\n",
    "\n",
    "    # 1st conv layer\n",
    "    model.add(keras.layers.Conv2D(64, (3, 3), activation='relu', input_shape=input_shape))\n",
    "    model.add(keras.layers.MaxPooling2D((3, 3), strides=(2, 2), padding='same'))\n",
    "    model.add(keras.layers.BatchNormalization())\n",
    "\n",
    "    # 2nd conv layer\n",
    "    model.add(keras.layers.Conv2D(32, (3, 3), activation='relu'))\n",
    "    model.add(keras.layers.MaxPooling2D((3, 3), strides=(2, 2), padding='same'))\n",
    "    model.add(keras.layers.BatchNormalization())\n",
    "\n",
    "    # 3rd conv layer\n",
    "    model.add(keras.layers.Conv2D(32, (2, 2), activation='relu'))\n",
    "    model.add(keras.layers.MaxPooling2D((2, 2), strides=(2, 2), padding='same'))\n",
    "    model.add(keras.layers.BatchNormalization())\n",
    "\n",
    "    # flatten output and feed it into dense layer\n",
    "    model.add(keras.layers.Flatten())\n",
    "    model.add(keras.layers.Dense(64, activation='relu'))\n",
    "    model.add(keras.layers.Dropout(0.3))\n",
    "\n",
    "    # output layer\n",
    "    model.add(keras.layers.Dense(5, activation='softmax'))\n",
    "\n",
    "    return model\n",
    "\n",
    "\n",
    "def predict(model, X, y):\n",
    "    \"\"\"Predict a single sample using the trained model\n",
    "    :param model: Trained classifier\n",
    "    :param X: Input data\n",
    "    :param y (int): Target\n",
    "    \"\"\"\n",
    "\n",
    "    # add a dimension to input data for sample - model.predict() expects a 4d array in this case\n",
    "    X = X[np.newaxis, ...] # array shape (1, 130, 13, 1)\n",
    "\n",
    "    # perform prediction\n",
    "    prediction = model.predict(X)\n",
    "\n",
    "    # get index with max value\n",
    "    predicted_index = np.argmax(prediction, axis=1)\n",
    "\n",
    "    print(\"Target: {}, Predicted label: {}\".format(y, predicted_index))\n",
    "\n",
    "\n",
    "if __name__ == \"__main__\":\n",
    "\n",
    "    # get train, validation, test splits\n",
    "    X_train, X_validation, X_test, y_train, y_validation, y_test = prepare_datasets(0.25, 0.2)\n",
    "\n",
    "    # create network\n",
    "    input_shape = (X_train.shape[1], X_train.shape[2], 1)\n",
    "    model = build_model(input_shape)\n",
    "\n",
    "    # compile model\n",
    "    optimiser = keras.optimizers.Adam(learning_rate=0.0001)\n",
    "    model.compile(optimizer=optimiser,\n",
    "                  loss='sparse_categorical_crossentropy',\n",
    "                  metrics=['accuracy'])\n",
    "\n",
    "    model.summary()\n",
    "\n",
    "    # train model\n",
    "    history = model.fit(X_train, y_train, validation_data=(X_validation, y_validation), batch_size=32, epochs=50)\n",
    "\n",
    "    # plot accuracy/error for training and validation\n",
    "    plot_history(history)\n",
    "\n",
    "    # evaluate model on test set\n",
    "    test_loss, test_acc = model.evaluate(X_test, y_test, verbose=2)\n",
    "    print('\\nTest accuracy:', test_acc)\n",
    "\n",
    "    # pick a sample to predict from the test set\n",
    "    X_to_predict = X_test[100]\n",
    "    y_to_predict = y_test[100]\n",
    "\n",
    "    # predict sample\n",
    "    predict(model, X_to_predict, y_to_predict)\n",
    "\n",
    "\n",
    "\n",
    "\n",
    "\n"
   ]
  },
  {
   "cell_type": "code",
   "execution_count": null,
   "id": "DV6FuUJHgZ-Y",
   "metadata": {
    "colab": {
     "base_uri": "https://localhost:8080/"
    },
    "id": "DV6FuUJHgZ-Y",
    "outputId": "30d0ac2e-a9b4-4b1a-d6e7-1c7e557ca450"
   },
   "outputs": [],
   "source": []
  },
  {
   "cell_type": "code",
   "execution_count": null,
   "id": "7rBMkBs1gfyS",
   "metadata": {
    "colab": {
     "base_uri": "https://localhost:8080/"
    },
    "id": "7rBMkBs1gfyS",
    "outputId": "3edda9c3-b647-4cc2-a0be-9e1c6c7d4bca"
   },
   "outputs": [],
   "source": []
  },
  {
   "cell_type": "code",
   "execution_count": null,
   "id": "u4JvJxNIfP9y",
   "metadata": {
    "id": "u4JvJxNIfP9y"
   },
   "outputs": [],
   "source": []
  },
  {
   "cell_type": "code",
   "execution_count": null,
   "id": "dVJFEFerfeic",
   "metadata": {
    "colab": {
     "base_uri": "https://localhost:8080/",
     "height": 973
    },
    "id": "dVJFEFerfeic",
    "outputId": "76a28c04-866c-4d12-863e-fc31134ffbb5"
   },
   "outputs": [],
   "source": []
  },
  {
   "cell_type": "code",
   "execution_count": 84,
   "id": "c02c43d8",
   "metadata": {},
   "outputs": [],
   "source": [
    "import json\n",
    "import os\n",
    "import math\n",
    "import librosa\n",
    "\n",
    "DATASET_PATH = \"data/test_data/maroon5/Maroon5_00109.wav\"\n",
    "JSON_PATH = \"data_test2.json\"\n",
    "SAMPLE_RATE = 22050\n",
    "TRACK_DURATION = 30 # measured in seconds\n",
    "SAMPLES_PER_TRACK = SAMPLE_RATE * TRACK_DURATION\n",
    "\n",
    "\n",
    "def save_mfcc(dataset_path, json_path, num_mfcc=13, n_fft=2048, hop_length=512, num_segments=10):\n",
    "    \"\"\"Extracts MFCCs from music dataset and saves them into a json file along witgh genre labels.\n",
    "\n",
    "        :param dataset_path (str): Path to dataset\n",
    "        :param json_path (str): Path to json file used to save MFCCs\n",
    "        :param num_mfcc (int): Number of coefficients to extract\n",
    "        :param n_fft (int): Interval we consider to apply FFT. Measured in # of samples\n",
    "        :param hop_length (int): Sliding window for FFT. Measured in # of samples\n",
    "        :param: num_segments (int): Number of segments we want to divide sample tracks into\n",
    "        :return:\n",
    "        \"\"\"\n",
    "\n",
    "    # dictionary to store mapping, labels, and MFCCs\n",
    "    data = {\n",
    "        \"mfcc\": []\n",
    "    }\n",
    "\n",
    "    samples_per_segment = int(SAMPLES_PER_TRACK / num_segments)\n",
    "    num_mfcc_vectors_per_segment = math.ceil(samples_per_segment / hop_length)\n",
    "\n",
    "\n",
    "    signal, sample_rate = librosa.load(dataset_path, sr=SAMPLE_RATE)\n",
    "\n",
    "    # process all segments of audio file\n",
    "    for d in range(num_segments):\n",
    "\n",
    "        # calculate start and finish sample for current segment\n",
    "        start = samples_per_segment * d\n",
    "        finish = start + samples_per_segment\n",
    "\n",
    "        # extract mfcc\n",
    "        mfcc = librosa.feature.mfcc(y=signal[start:finish], sr=sample_rate, n_mfcc=num_mfcc, n_fft=n_fft, hop_length=hop_length)\n",
    "        mfcc = mfcc.T\n",
    "\n",
    "        # store only mfcc feature with expected number of vectors\n",
    "        if len(mfcc) == num_mfcc_vectors_per_segment:\n",
    "            data[\"mfcc\"].append(mfcc.tolist())\n",
    "           \n",
    "    return data\n",
    "\n",
    "    # save MFCCs to json file\n",
    "#     with open(json_path, \"w\") as fp:\n",
    "#         json.dump(data, fp, indent=4)\n",
    "        \n",
    "        \n",
    "if __name__ == \"__main__\":\n",
    "    MFCC = save_mfcc(DATASET_PATH, JSON_PATH, num_segments=10)"
   ]
  },
  {
   "cell_type": "code",
   "execution_count": 85,
   "id": "1968df88",
   "metadata": {},
   "outputs": [],
   "source": [
    "# with open('data_test2.json', \"r\") as fp:\n",
    "#         data = json.load(fp)\n",
    "\n",
    "X = np.array(MFCC[\"mfcc\"])\n"
   ]
  },
  {
   "cell_type": "code",
   "execution_count": 86,
   "id": "c2e5b292",
   "metadata": {},
   "outputs": [
    {
     "data": {
      "text/plain": [
       "(10, 130, 13, 1)"
      ]
     },
     "execution_count": 86,
     "metadata": {},
     "output_type": "execute_result"
    }
   ],
   "source": [
    "X = X[...,np.newaxis]\n",
    "X.shape"
   ]
  },
  {
   "cell_type": "code",
   "execution_count": 87,
   "id": "8d620c74",
   "metadata": {},
   "outputs": [
    {
     "name": "stdout",
     "output_type": "stream",
     "text": [
      "[4, 3, 4, 3, 4, 4, 4, 4, 3, 4]\n",
      "Predicted label: maroon5\n"
     ]
    }
   ],
   "source": [
    "prediction = model.predict(X)\n",
    "\n",
    "map = {0:\"brunomars\",\n",
    "       1: \"greenday\",\n",
    "       2:  \"Migos\",\n",
    "       3:  \"Beyonce\",\n",
    "       4:  \"maroon5\",\n",
    "      -1: \"Great Voice! But I don't know. New Artist.\"}\n",
    "# get index with max value\n",
    "# print(prediction)\n",
    "predicted_index = []\n",
    "for row in prediction:\n",
    "    maxm_pb = max(row)\n",
    "    if maxm_pb>0.5:\n",
    "        predicted_index.extend(np.where(row==maxm_pb)[0])\n",
    "    else:\n",
    "        predicted_index.append(-1)\n",
    "    \n",
    "# predicted_index = np.argmax(prediction, axis=1)\n",
    "print(predicted_index)\n",
    "import statistics as st\n",
    "print(\"Predicted label: {}\".format(map[st.mode(predicted_index)]))\n"
   ]
  },
  {
   "cell_type": "code",
   "execution_count": null,
   "id": "dc2f3a09",
   "metadata": {},
   "outputs": [],
   "source": []
  },
  {
   "cell_type": "code",
   "execution_count": null,
   "id": "360f7611",
   "metadata": {},
   "outputs": [],
   "source": []
  },
  {
   "cell_type": "code",
   "execution_count": null,
   "id": "71ab5937",
   "metadata": {},
   "outputs": [],
   "source": []
  },
  {
   "cell_type": "code",
   "execution_count": null,
   "id": "1665d3e6",
   "metadata": {},
   "outputs": [],
   "source": []
  },
  {
   "cell_type": "code",
   "execution_count": null,
   "id": "487abce1",
   "metadata": {},
   "outputs": [],
   "source": []
  },
  {
   "cell_type": "code",
   "execution_count": null,
   "id": "fc303083",
   "metadata": {},
   "outputs": [],
   "source": []
  },
  {
   "cell_type": "code",
   "execution_count": 45,
   "id": "305d44c5",
   "metadata": {},
   "outputs": [
    {
     "data": {
      "text/plain": [
       "(10, 130, 13)"
      ]
     },
     "execution_count": 45,
     "metadata": {},
     "output_type": "execute_result"
    }
   ],
   "source": [
    "X.shape"
   ]
  },
  {
   "cell_type": "code",
   "execution_count": 47,
   "id": "bf3a5167",
   "metadata": {},
   "outputs": [
    {
     "data": {
      "text/plain": [
       "(10, 130, 13, 1)"
      ]
     },
     "execution_count": 47,
     "metadata": {},
     "output_type": "execute_result"
    }
   ],
   "source": [
    "X.shape"
   ]
  },
  {
   "cell_type": "code",
   "execution_count": null,
   "id": "c738a478",
   "metadata": {},
   "outputs": [],
   "source": []
  },
  {
   "cell_type": "code",
   "execution_count": null,
   "id": "f021bb99",
   "metadata": {},
   "outputs": [],
   "source": []
  },
  {
   "cell_type": "code",
   "execution_count": null,
   "id": "6c18b15e",
   "metadata": {},
   "outputs": [],
   "source": []
  },
  {
   "cell_type": "code",
   "execution_count": null,
   "id": "5eff7ee7",
   "metadata": {},
   "outputs": [],
   "source": []
  },
  {
   "cell_type": "code",
   "execution_count": null,
   "id": "c104413e",
   "metadata": {},
   "outputs": [],
   "source": []
  },
  {
   "cell_type": "code",
   "execution_count": null,
   "id": "1153c725",
   "metadata": {},
   "outputs": [],
   "source": []
  },
  {
   "cell_type": "code",
   "execution_count": null,
   "id": "06ac07b3",
   "metadata": {},
   "outputs": [],
   "source": []
  },
  {
   "cell_type": "code",
   "execution_count": null,
   "id": "2aa97daf",
   "metadata": {},
   "outputs": [],
   "source": []
  }
 ],
 "metadata": {
  "accelerator": "TPU",
  "colab": {
   "collapsed_sections": [],
   "machine_shape": "hm",
   "name": "mlp_classifier_CNN.ipynb",
   "provenance": []
  },
  "kernelspec": {
   "display_name": "Python 3.8 (tensorflow)",
   "language": "python",
   "name": "tensorflow"
  },
  "language_info": {
   "codemirror_mode": {
    "name": "ipython",
    "version": 3
   },
   "file_extension": ".py",
   "mimetype": "text/x-python",
   "name": "python",
   "nbconvert_exporter": "python",
   "pygments_lexer": "ipython3",
   "version": "3.8.12"
  }
 },
 "nbformat": 4,
 "nbformat_minor": 5
}
