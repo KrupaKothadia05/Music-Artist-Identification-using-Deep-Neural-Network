{
 "cells": [
  {
   "cell_type": "code",
   "execution_count": null,
   "id": "a22f500f",
   "metadata": {},
   "outputs": [],
   "source": [
    "import random\n",
    "import librosa\n",
    "import numpy as np\n",
    "import soundfile as sf\n",
    "\n",
    "from helper import _plot_signal_and_augmented_signal\n",
    "\n",
    "# Python 3.8\n",
    "# install matplotlib, librosa\n",
    "# install python3-tk -> sudo apt install python3-tk\n",
    "\n",
    "\n",
    "def add_white_noise(signal, noise_percentage_factor):\n",
    "    noise = np.random.normal(0, signal.std(), signal.size)\n",
    "    augmented_signal = signal + noise * noise_percentage_factor\n",
    "    return augmented_signal\n",
    "\n",
    "\n",
    "def time_stretch(signal, time_stretch_rate):\n",
    "    \"\"\"Time stretching implemented with librosa:\n",
    "    https://librosa.org/doc/main/generated/librosa.effects.pitch_shift.html?highlight=pitch%20shift#librosa.effects.pitch_shift\n",
    "    \"\"\"\n",
    "    return librosa.effects.time_stretch(signal, time_stretch_rate)\n",
    "\n",
    "\n",
    "def pitch_scale(signal, sr, num_semitones):\n",
    "    \"\"\"Pitch scaling implemented with librosa:\n",
    "    https://librosa.org/doc/main/generated/librosa.effects.pitch_shift.html?highlight=pitch%20shift#librosa.effects.pitch_shift\n",
    "    \"\"\"\n",
    "    return librosa.effects.pitch_shift(signal, sr, num_semitones)\n",
    "\n",
    "\n",
    "def random_gain(signal, min_factor=0.1, max_factor=0.12):\n",
    "    gain_rate = random.uniform(min_factor, max_factor)\n",
    "    augmented_signal = signal * gain_rate\n",
    "    return augmented_signal\n",
    "\n",
    "\n",
    "def invert_polarity(signal):\n",
    "    return signal * -1\n",
    "\n",
    "\n",
    "if __name__ == \"__main__\":\n",
    "    signal, sr = librosa.load(\"scale.wav\")\n",
    "    augmented_signal = invert_polarity(signal)\n",
    "    sf.write(\"augmented_audio.wav\", augmented_signal, sr)\n",
    "    _plot_signal_and_augmented_signal(signal, augmented_signal, sr)"
   ]
  }
 ],
 "metadata": {
  "kernelspec": {
   "display_name": "Python 3.8 (tensorflow)",
   "language": "python",
   "name": "tensorflow"
  },
  "language_info": {
   "codemirror_mode": {
    "name": "ipython",
    "version": 3
   },
   "file_extension": ".py",
   "mimetype": "text/x-python",
   "name": "python",
   "nbconvert_exporter": "python",
   "pygments_lexer": "ipython3",
   "version": "3.8.12"
  }
 },
 "nbformat": 4,
 "nbformat_minor": 5
}
